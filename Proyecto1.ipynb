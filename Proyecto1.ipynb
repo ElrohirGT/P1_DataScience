{
 "cells": [
  {
   "cell_type": "markdown",
   "id": "0d15c3f4-e6da-4c52-8e25-33f536d6087c",
   "metadata": {},
   "source": [
    "# Proyecto 1\n",
    "Flavio Galán 22386\n",
    "Josue Say\n",
    "Isabella Miralles"
   ]
  },
  {
   "cell_type": "markdown",
   "id": "e4322479-0609-4733-9ce1-979917dbfc86",
   "metadata": {},
   "source": [
    "## Descarga de los Datos\n",
    "Para descargar los datos se utiliza Selenium y Python, además se tiene un sistema de cacheo que funciona en base al archivo `links_cache.txt`. Si este archivo ya existe entonces no se realizará ninguna descarga ni descompresión de los datos."
   ]
  },
  {
   "cell_type": "code",
   "execution_count": null,
   "id": "1e95a071-af81-4d6c-8a94-160f46a335bc",
   "metadata": {},
   "outputs": [],
   "source": [
    "import os\n",
    "import subprocess\n",
    "import pandas as pd\n",
    "from selenium import webdriver\n",
    "from selenium.webdriver.support.wait import WebDriverWait\n",
    "from selenium.webdriver.support import expected_conditions as EC\n",
    "from selenium.webdriver.common.keys import Keys\n",
    "from selenium.webdriver.common.by import By\n",
    "\n",
    "cache_file_name = \"links_cache.txt\"\n",
    "zip_dir = \"zips/\"\n",
    "files_dir = \"data/\"\n",
    "\n",
    "links = []\n",
    "if os.path.exists(cache_file_name):\n",
    "    with open(cache_file_name, \"r\") as file:\n",
    "        content = file.read()\n",
    "        links = eval(content)\n",
    "else:\n",
    "    with webdriver.Firefox() as driver:\n",
    "        driver.implicitly_wait(3)\n",
    "\n",
    "        driver.get(\"http://www.mineduc.gob.gt/BUSCAESTABLECIMIENTO_GE/\")\n",
    "        assert \"Portal SAT\" in driver.title\n",
    "\n",
    "        WebDriverWait(driver, 10).until(\n",
    "            EC.presence_of_element_located((By., \"Descargar\"))\n",
    "        )\n",
    "        elems = driver.find_elements(By.LINK_TEXT, \"Descargar\")\n",
    "        for elem in elems:\n",
    "            link = elem.get_property(\"href\")\n",
    "            if \"2025\" in link or \"2024\" in link:\n",
    "                print(link)\n",
    "                links.append(link)\n",
    "\n",
    "    lines = [\"[\"]\n",
    "    for link in links:\n",
    "        line = f'\\t\"{link}\",\\n'\n",
    "        lines.append(line)\n",
    "    lines.append(\"]\")\n",
    "\n",
    "    with open(cache_file_name, \"w\") as file:\n",
    "        file.writelines(lines)\n",
    "\n",
    "    for link in links:\n",
    "        subprocess.run([\"mkdir\", \"-p\", zip_dir])\n",
    "        filename = zip_dir + link.split(\"/\")[-1]\n",
    "        subprocess.run([\"curl\", link, \"--output\", filename])\n",
    "\n",
    "        subprocess.run([\"unzip\", \"-d\", files_dir, filename])"
   ]
  }
 ],
 "metadata": {
  "kernelspec": {
   "display_name": "Python 3 (ipykernel)",
   "language": "python",
   "name": "python3"
  },
  "language_info": {
   "codemirror_mode": {
    "name": "ipython",
    "version": 3
   },
   "file_extension": ".py",
   "mimetype": "text/x-python",
   "name": "python",
   "nbconvert_exporter": "python",
   "pygments_lexer": "ipython3",
   "version": "3.13.4"
  }
 },
 "nbformat": 4,
 "nbformat_minor": 5
}
